{
  "nbformat": 4,
  "nbformat_minor": 0,
  "metadata": {
    "colab": {
      "provenance": [],
      "authorship_tag": "ABX9TyMqFuq+qlNrrQDR3oFwfjnS",
      "include_colab_link": true
    },
    "kernelspec": {
      "name": "python3",
      "display_name": "Python 3"
    },
    "language_info": {
      "name": "python"
    }
  },
  "cells": [
    {
      "cell_type": "markdown",
      "metadata": {
        "id": "view-in-github",
        "colab_type": "text"
      },
      "source": [
        "<a href=\"https://colab.research.google.com/github/Arja-Balu/FML/blob/main/Lemmatization.ipynb\" target=\"_parent\"><img src=\"https://colab.research.google.com/assets/colab-badge.svg\" alt=\"Open In Colab\"/></a>"
      ]
    },
    {
      "cell_type": "code",
      "execution_count": 6,
      "metadata": {
        "colab": {
          "base_uri": "https://localhost:8080/"
        },
        "id": "rWV4lwRM0qHO",
        "outputId": "807f3b84-007d-4d8c-c327-7668c3c32612"
      },
      "outputs": [
        {
          "output_type": "stream",
          "name": "stderr",
          "text": [
            "[nltk_data] Downloading package punkt to /root/nltk_data...\n",
            "[nltk_data]   Package punkt is already up-to-date!\n",
            "[nltk_data] Downloading package wordnet to /root/nltk_data...\n"
          ]
        }
      ],
      "source": [
        "import nltk\n",
        "from nltk.stem import WordNetLemmatizer\n",
        "from nltk.tokenize import word_tokenize\n",
        "nltk.download('punkt')\n",
        "nltk.download('wordnet')\n",
        "wordnet = WordNetLemmatizer()"
      ]
    },
    {
      "cell_type": "code",
      "source": [
        "def lemmatize(sentence):\n",
        "  word_token = word_tokenize(sentence)\n",
        "  w=[]\n",
        "  for i in word_token:\n",
        "    w.append(wordnet.lemmatize(i))\n",
        "    w.append(\" \")\n",
        "    k=\"\".join(w)\n",
        "  return k"
      ],
      "metadata": {
        "id": "98bi5KvR1LJG"
      },
      "execution_count": 7,
      "outputs": []
    },
    {
      "cell_type": "code",
      "source": [
        "sentence = \"He was runnning and eating at same time.He has bad habit of swimming after playing long hours in the sun\"\n",
        "print(lemmatize(sentence))"
      ],
      "metadata": {
        "colab": {
          "base_uri": "https://localhost:8080/"
        },
        "id": "OeI7qN_p12rv",
        "outputId": "00ae8761-0866-42f6-d38e-8107bf43654e"
      },
      "execution_count": 9,
      "outputs": [
        {
          "output_type": "stream",
          "name": "stdout",
          "text": [
            "He wa runnning and eating at same time.He ha bad habit of swimming after playing long hour in the sun \n"
          ]
        }
      ]
    }
  ]
}