{
  "nbformat": 4,
  "nbformat_minor": 0,
  "metadata": {
    "colab": {
      "provenance": [],
      "authorship_tag": "ABX9TyMkKykVQkkgWJof65dLUkiF",
      "include_colab_link": true
    },
    "kernelspec": {
      "name": "python3",
      "display_name": "Python 3"
    },
    "language_info": {
      "name": "python"
    }
  },
  "cells": [
    {
      "cell_type": "markdown",
      "metadata": {
        "id": "view-in-github",
        "colab_type": "text"
      },
      "source": [
        "<a href=\"https://colab.research.google.com/github/Arja-Balu/FML/blob/main/Stop_words_%26_Punctuation.ipynb\" target=\"_parent\"><img src=\"https://colab.research.google.com/assets/colab-badge.svg\" alt=\"Open In Colab\"/></a>"
      ]
    },
    {
      "cell_type": "code",
      "execution_count": 22,
      "metadata": {
        "id": "yjkYSqWRtBSH",
        "colab": {
          "base_uri": "https://localhost:8080/"
        },
        "outputId": "118ea898-61b5-4927-a6b1-f9e0703de562"
      },
      "outputs": [
        {
          "output_type": "stream",
          "name": "stderr",
          "text": [
            "[nltk_data] Downloading package stopwords to /root/nltk_data...\n",
            "[nltk_data]   Package stopwords is already up-to-date!\n",
            "[nltk_data] Downloading package punkt to /root/nltk_data...\n",
            "[nltk_data]   Package punkt is already up-to-date!\n"
          ]
        },
        {
          "output_type": "execute_result",
          "data": {
            "text/plain": [
              "True"
            ]
          },
          "metadata": {},
          "execution_count": 22
        }
      ],
      "source": [
        "import nltk\n",
        "from nltk.corpus import stopwords\n",
        "from nltk.tokenize import word_tokenize\n",
        "import string\n",
        "nltk.download('stopwords')\n",
        "nltk.download('punkt')"
      ]
    },
    {
      "cell_type": "code",
      "source": [
        "def punctuation(sentence):\n",
        "  for i in sentence:\n",
        "    if i in string.punctuation:\n",
        "      sentence = sentence.replace(i,\"\")\n",
        "  return sentence"
      ],
      "metadata": {
        "id": "UHbH5AXQtvfX"
      },
      "execution_count": 23,
      "outputs": []
    },
    {
      "cell_type": "code",
      "source": [
        "def stop_word(sentence):\n",
        "  stop_word = set(stopwords.words('english'))\n",
        "  word_token = word_tokenize(sentence)\n",
        "  w=[]\n",
        "  for i in word_token:\n",
        "    if i not in stop_word:\n",
        "      w.append(i)\n",
        "      k=\"\".join(w)\n",
        "  return k;"
      ],
      "metadata": {
        "id": "CMj1GK-iuGQ8"
      },
      "execution_count": 24,
      "outputs": []
    },
    {
      "cell_type": "code",
      "source": [
        "sentence = \"\"\"We are learning. and natural language the fml is good subject if you know it already be calm.\"\"\"\n",
        "print(\"A puntuation:-\",punctuation(sentence))\n",
        "print(\"A stop_word:-\",stop_word(sentence))"
      ],
      "metadata": {
        "colab": {
          "base_uri": "https://localhost:8080/"
        },
        "id": "yEFUBeHOu1-h",
        "outputId": "428c4f1a-2cdc-4e49-8aae-1a3940137457"
      },
      "execution_count": 25,
      "outputs": [
        {
          "output_type": "stream",
          "name": "stdout",
          "text": [
            "A puntuation:- We are learning and natural language the fml is good subject if you know it already be calm\n",
            "A stop_word:- Welearning.naturallanguagefmlgoodsubjectknowalreadycalm.\n"
          ]
        }
      ]
    }
  ]
}